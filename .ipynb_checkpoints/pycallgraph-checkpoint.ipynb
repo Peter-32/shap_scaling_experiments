{
 "cells": [
  {
   "cell_type": "code",
   "execution_count": 21,
   "metadata": {},
   "outputs": [
    {
     "name": "stdout",
     "output_type": "stream",
     "text": [
      "The pycodestyle_magic extension is already loaded. To reload it, use:\n",
      "  %reload_ext pycodestyle_magic\n",
      "The autoreload extension is already loaded. To reload it, use:\n",
      "  %reload_ext autoreload\n"
     ]
    },
    {
     "ename": "SyntaxError",
     "evalue": "import * only allowed at module level (profile2.py, line 1)",
     "output_type": "error",
     "traceback": [
      "Traceback \u001b[0;36m(most recent call last)\u001b[0m:\n",
      "  File \u001b[1;32m\"/Users/petermyers/Desktop/Code/commons/venv/lib/python3.6/site-packages/IPython/core/interactiveshell.py\"\u001b[0m, line \u001b[1;32m3267\u001b[0m, in \u001b[1;35mrun_code\u001b[0m\n    exec(code_obj, self.user_global_ns, self.user_ns)\n",
      "\u001b[0;36m  File \u001b[0;32m\"<ipython-input-21-49d6dc52ddb7>\"\u001b[0;36m, line \u001b[0;32m47\u001b[0;36m, in \u001b[0;35m<module>\u001b[0;36m\u001b[0m\n\u001b[0;31m    from profile2.profile2 import *\u001b[0m\n",
      "\u001b[0;36m  File \u001b[0;32m\"/Users/petermyers/Desktop/Code/shap_scaling_experiments/profile2/profile2.py\"\u001b[0;36m, line \u001b[0;32m1\u001b[0m\n\u001b[0;31m    class RunEverything():\u001b[0m\n\u001b[0m                          ^\u001b[0m\n\u001b[0;31mSyntaxError\u001b[0m\u001b[0;31m:\u001b[0m import * only allowed at module level\n"
     ]
    }
   ],
   "source": [
    "%load_ext pycodestyle_magic\n",
    "%load_ext autoreload\n",
    "%autoreload 2\n",
    "#!/usr/bin/env python\n",
    "\n",
    "\n",
    "\n",
    "from pycallgraph import PyCallGraph\n",
    "from pycallgraph import Config\n",
    "from pycallgraph import GlobbingFilter\n",
    "from pycallgraph.output import GraphvizOutput\n",
    "\n",
    "\n",
    "\n",
    "# config = Config(max_depth=3)\n",
    "config = Config()\n",
    "config.trace_filter = GlobbingFilter(exclude=[\n",
    "    'pycallgraph.*',\n",
    "    'numpy.*',\n",
    "    'scipy.*',\n",
    "    'sklearn.*',\n",
    "    'matplotlib.*',\n",
    "    'mysql.connector.*',\n",
    "    'mysql.*',    \n",
    "    'socket.*',    \n",
    "    'pandas.*',\n",
    "    'datetime.*',    \n",
    "    'copy.*',\n",
    "    'multiprocessing.*',\n",
    "    'xgboosttuner.*',\n",
    "    '_Module.*',    \n",
    "    'Module.*',        \n",
    "    '_get_spec.*',            \n",
    "    '_weakrefset.*',                \n",
    "    'abc.*',                    \n",
    "    '_path_stat.*',                        \n",
    "    'ModuleSpec.*',                            \n",
    "    '_handle_fromlist.*',      \n",
    "])\n",
    "\n",
    "# config = Config(max_depth=3)\n",
    "graphviz = GraphvizOutput(output_file='filter_exclude.png')\n",
    "\n",
    "with PyCallGraph(output=graphviz, config=config):\n",
    "    import sys\n",
    "    sys.path.append(\"/Users/petermyers/Desktop/Code/shap_scaling_experiments/profile2\")\n",
    "    from profile2.profile2 import *\n",
    "    RunEverything()\n",
    "    "
   ]
  },
  {
   "cell_type": "raw",
   "metadata": {},
   "source": [
    "import pandas as pd"
   ]
  },
  {
   "cell_type": "code",
   "execution_count": 20,
   "metadata": {},
   "outputs": [
    {
     "data": {
      "text/html": [
       "<div>\n",
       "<style scoped>\n",
       "    .dataframe tbody tr th:only-of-type {\n",
       "        vertical-align: middle;\n",
       "    }\n",
       "\n",
       "    .dataframe tbody tr th {\n",
       "        vertical-align: top;\n",
       "    }\n",
       "\n",
       "    .dataframe thead th {\n",
       "        text-align: right;\n",
       "    }\n",
       "</style>\n",
       "<table border=\"1\" class=\"dataframe\">\n",
       "  <thead>\n",
       "    <tr style=\"text-align: right;\">\n",
       "      <th></th>\n",
       "      <th>a</th>\n",
       "      <th>b</th>\n",
       "    </tr>\n",
       "  </thead>\n",
       "  <tbody>\n",
       "    <tr>\n",
       "      <th>0</th>\n",
       "      <td>1</td>\n",
       "      <td>1</td>\n",
       "    </tr>\n",
       "    <tr>\n",
       "      <th>1</th>\n",
       "      <td>2</td>\n",
       "      <td>2</td>\n",
       "    </tr>\n",
       "    <tr>\n",
       "      <th>2</th>\n",
       "      <td>5</td>\n",
       "      <td>3</td>\n",
       "    </tr>\n",
       "  </tbody>\n",
       "</table>\n",
       "</div>"
      ],
      "text/plain": [
       "   a  b\n",
       "0  1  1\n",
       "1  2  2\n",
       "2  5  3"
      ]
     },
     "execution_count": 20,
     "metadata": {},
     "output_type": "execute_result"
    }
   ],
   "source": [
    "df = pd.DataFrame({'a': [1,2,5], 'b': [1,2,3]})\n",
    "df"
   ]
  },
  {
   "cell_type": "code",
   "execution_count": 21,
   "metadata": {},
   "outputs": [
    {
     "data": {
      "text/plain": [
       "{1: 1, 2: 2, 5: 3}"
      ]
     },
     "execution_count": 21,
     "metadata": {},
     "output_type": "execute_result"
    }
   ],
   "source": [
    "df.set_index(['a']).to_dict()['b']"
   ]
  },
  {
   "cell_type": "code",
   "execution_count": null,
   "metadata": {},
   "outputs": [],
   "source": []
  }
 ],
 "metadata": {
  "kernelspec": {
   "display_name": "commons",
   "language": "python",
   "name": "commons"
  },
  "language_info": {
   "codemirror_mode": {
    "name": "ipython",
    "version": 3
   },
   "file_extension": ".py",
   "mimetype": "text/x-python",
   "name": "python",
   "nbconvert_exporter": "python",
   "pygments_lexer": "ipython3",
   "version": "3.6.5"
  },
  "toc": {
   "base_numbering": 1,
   "nav_menu": {},
   "number_sections": true,
   "sideBar": true,
   "skip_h1_title": false,
   "title_cell": "Table of Contents",
   "title_sidebar": "Contents",
   "toc_cell": false,
   "toc_position": {},
   "toc_section_display": true,
   "toc_window_display": false
  }
 },
 "nbformat": 4,
 "nbformat_minor": 2
}
